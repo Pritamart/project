{
 "cells": [
  {
   "cell_type": "code",
   "execution_count": 12,
   "id": "46c4a2c0",
   "metadata": {},
   "outputs": [],
   "source": [
    "import numpy as np # linear algebra\n",
    "import pandas as pd # data processing, CSV file I/O (e.g. pd.read_csv)\n",
    "import os\n"
   ]
  },
  {
   "cell_type": "code",
   "execution_count": 13,
   "id": "0ccf2b74",
   "metadata": {},
   "outputs": [],
   "source": [
    "df = pd.read_csv('jewelry.csv')"
   ]
  },
  {
   "cell_type": "code",
   "execution_count": 14,
   "id": "b011e41b",
   "metadata": {},
   "outputs": [],
   "source": [
    "df.head()\n",
    "#no columns, add columns\n",
    "columns = ['order_date','order_id','user_id','purchase','category_id','category','brand','price','price_id','buyer','colour1','colour2','type']\n",
    "df.columns = columns"
   ]
  },
  {
   "cell_type": "code",
   "execution_count": 15,
   "id": "86d5af8f",
   "metadata": {},
   "outputs": [
    {
     "name": "stdout",
     "output_type": "stream",
     "text": [
      "                order_date             order_id              user_id  \\\n",
      "0  2018-12-01 17:38:31 UTC  1924899396621697920  1806829193678291446   \n",
      "1  2018-12-02 13:53:42 UTC  1925511016616034733  1842214461889315556   \n",
      "2  2018-12-02 17:44:02 UTC  1925626951238681511  1835566849434059453   \n",
      "3  2018-12-02 21:30:19 UTC  1925740842841014667  1873936840742928865   \n",
      "4  2018-12-02 22:09:34 UTC  1925760595336888995  1835566854827934449   \n",
      "\n",
      "   purchase   category_id          category  brand   price      price_id  \\\n",
      "0         1  1.806829e+18               NaN    NaN  212.14  1.515916e+18   \n",
      "1         1  1.806829e+18   jewelry.pendant    1.0   54.66  1.515916e+18   \n",
      "2         1  1.806829e+18   jewelry.pendant    0.0   88.90  1.515916e+18   \n",
      "3         1  1.806829e+18  jewelry.necklace    0.0  417.67  1.515916e+18   \n",
      "4         1  1.806829e+18   jewelry.earring    1.0  102.27  1.515916e+18   \n",
      "\n",
      "  buyer colour1 colour2      type  \n",
      "0   NaN  yellow    gold       NaN  \n",
      "1     f   white    gold  sapphire  \n",
      "2     f     red    gold   diamond  \n",
      "3   NaN     red    gold  amethyst  \n",
      "4   NaN     red    gold       NaN  \n"
     ]
    }
   ],
   "source": [
    "print(df.head())"
   ]
  },
  {
   "cell_type": "code",
   "execution_count": 16,
   "id": "68ed9af0",
   "metadata": {},
   "outputs": [],
   "source": [
    "df.drop(columns=['order_id','user_id','category_id','price_id'],inplace=True)"
   ]
  },
  {
   "cell_type": "code",
   "execution_count": 17,
   "id": "3895e237",
   "metadata": {},
   "outputs": [
    {
     "data": {
      "text/html": [
       "<div>\n",
       "<style scoped>\n",
       "    .dataframe tbody tr th:only-of-type {\n",
       "        vertical-align: middle;\n",
       "    }\n",
       "\n",
       "    .dataframe tbody tr th {\n",
       "        vertical-align: top;\n",
       "    }\n",
       "\n",
       "    .dataframe thead th {\n",
       "        text-align: right;\n",
       "    }\n",
       "</style>\n",
       "<table border=\"1\" class=\"dataframe\">\n",
       "  <thead>\n",
       "    <tr style=\"text-align: right;\">\n",
       "      <th></th>\n",
       "      <th>order_date</th>\n",
       "      <th>purchase</th>\n",
       "      <th>category</th>\n",
       "      <th>brand</th>\n",
       "      <th>price</th>\n",
       "      <th>buyer</th>\n",
       "      <th>colour1</th>\n",
       "      <th>colour2</th>\n",
       "      <th>type</th>\n",
       "    </tr>\n",
       "  </thead>\n",
       "  <tbody>\n",
       "    <tr>\n",
       "      <th>0</th>\n",
       "      <td>2018-12-01 17:38:31 UTC</td>\n",
       "      <td>1</td>\n",
       "      <td>NaN</td>\n",
       "      <td>NaN</td>\n",
       "      <td>212.14</td>\n",
       "      <td>NaN</td>\n",
       "      <td>yellow</td>\n",
       "      <td>gold</td>\n",
       "      <td>NaN</td>\n",
       "    </tr>\n",
       "    <tr>\n",
       "      <th>1</th>\n",
       "      <td>2018-12-02 13:53:42 UTC</td>\n",
       "      <td>1</td>\n",
       "      <td>jewelry.pendant</td>\n",
       "      <td>1.0</td>\n",
       "      <td>54.66</td>\n",
       "      <td>f</td>\n",
       "      <td>white</td>\n",
       "      <td>gold</td>\n",
       "      <td>sapphire</td>\n",
       "    </tr>\n",
       "    <tr>\n",
       "      <th>2</th>\n",
       "      <td>2018-12-02 17:44:02 UTC</td>\n",
       "      <td>1</td>\n",
       "      <td>jewelry.pendant</td>\n",
       "      <td>0.0</td>\n",
       "      <td>88.90</td>\n",
       "      <td>f</td>\n",
       "      <td>red</td>\n",
       "      <td>gold</td>\n",
       "      <td>diamond</td>\n",
       "    </tr>\n",
       "    <tr>\n",
       "      <th>3</th>\n",
       "      <td>2018-12-02 21:30:19 UTC</td>\n",
       "      <td>1</td>\n",
       "      <td>jewelry.necklace</td>\n",
       "      <td>0.0</td>\n",
       "      <td>417.67</td>\n",
       "      <td>NaN</td>\n",
       "      <td>red</td>\n",
       "      <td>gold</td>\n",
       "      <td>amethyst</td>\n",
       "    </tr>\n",
       "    <tr>\n",
       "      <th>4</th>\n",
       "      <td>2018-12-02 22:09:34 UTC</td>\n",
       "      <td>1</td>\n",
       "      <td>jewelry.earring</td>\n",
       "      <td>1.0</td>\n",
       "      <td>102.27</td>\n",
       "      <td>NaN</td>\n",
       "      <td>red</td>\n",
       "      <td>gold</td>\n",
       "      <td>NaN</td>\n",
       "    </tr>\n",
       "  </tbody>\n",
       "</table>\n",
       "</div>"
      ],
      "text/plain": [
       "                order_date  purchase          category  brand   price buyer  \\\n",
       "0  2018-12-01 17:38:31 UTC         1               NaN    NaN  212.14   NaN   \n",
       "1  2018-12-02 13:53:42 UTC         1   jewelry.pendant    1.0   54.66     f   \n",
       "2  2018-12-02 17:44:02 UTC         1   jewelry.pendant    0.0   88.90     f   \n",
       "3  2018-12-02 21:30:19 UTC         1  jewelry.necklace    0.0  417.67   NaN   \n",
       "4  2018-12-02 22:09:34 UTC         1   jewelry.earring    1.0  102.27   NaN   \n",
       "\n",
       "  colour1 colour2      type  \n",
       "0  yellow    gold       NaN  \n",
       "1   white    gold  sapphire  \n",
       "2     red    gold   diamond  \n",
       "3     red    gold  amethyst  \n",
       "4     red    gold       NaN  "
      ]
     },
     "execution_count": 17,
     "metadata": {},
     "output_type": "execute_result"
    }
   ],
   "source": [
    "df.head()"
   ]
  },
  {
   "cell_type": "code",
   "execution_count": 18,
   "id": "a0f38c04",
   "metadata": {},
   "outputs": [
    {
     "name": "stdout",
     "output_type": "stream",
     "text": [
      "1 2537\n"
     ]
    }
   ],
   "source": [
    "print(df['purchase'].nunique(),df['brand'].nunique())"
   ]
  },
  {
   "cell_type": "code",
   "execution_count": 19,
   "id": "0c9150c9",
   "metadata": {},
   "outputs": [
    {
     "data": {
      "text/html": [
       "<div>\n",
       "<style scoped>\n",
       "    .dataframe tbody tr th:only-of-type {\n",
       "        vertical-align: middle;\n",
       "    }\n",
       "\n",
       "    .dataframe tbody tr th {\n",
       "        vertical-align: top;\n",
       "    }\n",
       "\n",
       "    .dataframe thead th {\n",
       "        text-align: right;\n",
       "    }\n",
       "</style>\n",
       "<table border=\"1\" class=\"dataframe\">\n",
       "  <thead>\n",
       "    <tr style=\"text-align: right;\">\n",
       "      <th></th>\n",
       "      <th>order_date</th>\n",
       "      <th>category</th>\n",
       "      <th>brand</th>\n",
       "      <th>price</th>\n",
       "      <th>buyer</th>\n",
       "      <th>colour1</th>\n",
       "      <th>colour2</th>\n",
       "      <th>type</th>\n",
       "    </tr>\n",
       "  </thead>\n",
       "  <tbody>\n",
       "    <tr>\n",
       "      <th>0</th>\n",
       "      <td>2018-12-01 17:38:31 UTC</td>\n",
       "      <td>NaN</td>\n",
       "      <td>NaN</td>\n",
       "      <td>212.14</td>\n",
       "      <td>NaN</td>\n",
       "      <td>yellow</td>\n",
       "      <td>gold</td>\n",
       "      <td>NaN</td>\n",
       "    </tr>\n",
       "    <tr>\n",
       "      <th>1</th>\n",
       "      <td>2018-12-02 13:53:42 UTC</td>\n",
       "      <td>jewelry.pendant</td>\n",
       "      <td>1.0</td>\n",
       "      <td>54.66</td>\n",
       "      <td>f</td>\n",
       "      <td>white</td>\n",
       "      <td>gold</td>\n",
       "      <td>sapphire</td>\n",
       "    </tr>\n",
       "    <tr>\n",
       "      <th>2</th>\n",
       "      <td>2018-12-02 17:44:02 UTC</td>\n",
       "      <td>jewelry.pendant</td>\n",
       "      <td>0.0</td>\n",
       "      <td>88.90</td>\n",
       "      <td>f</td>\n",
       "      <td>red</td>\n",
       "      <td>gold</td>\n",
       "      <td>diamond</td>\n",
       "    </tr>\n",
       "    <tr>\n",
       "      <th>3</th>\n",
       "      <td>2018-12-02 21:30:19 UTC</td>\n",
       "      <td>jewelry.necklace</td>\n",
       "      <td>0.0</td>\n",
       "      <td>417.67</td>\n",
       "      <td>NaN</td>\n",
       "      <td>red</td>\n",
       "      <td>gold</td>\n",
       "      <td>amethyst</td>\n",
       "    </tr>\n",
       "    <tr>\n",
       "      <th>4</th>\n",
       "      <td>2018-12-02 22:09:34 UTC</td>\n",
       "      <td>jewelry.earring</td>\n",
       "      <td>1.0</td>\n",
       "      <td>102.27</td>\n",
       "      <td>NaN</td>\n",
       "      <td>red</td>\n",
       "      <td>gold</td>\n",
       "      <td>NaN</td>\n",
       "    </tr>\n",
       "  </tbody>\n",
       "</table>\n",
       "</div>"
      ],
      "text/plain": [
       "                order_date          category  brand   price buyer colour1  \\\n",
       "0  2018-12-01 17:38:31 UTC               NaN    NaN  212.14   NaN  yellow   \n",
       "1  2018-12-02 13:53:42 UTC   jewelry.pendant    1.0   54.66     f   white   \n",
       "2  2018-12-02 17:44:02 UTC   jewelry.pendant    0.0   88.90     f     red   \n",
       "3  2018-12-02 21:30:19 UTC  jewelry.necklace    0.0  417.67   NaN     red   \n",
       "4  2018-12-02 22:09:34 UTC   jewelry.earring    1.0  102.27   NaN     red   \n",
       "\n",
       "  colour2      type  \n",
       "0    gold       NaN  \n",
       "1    gold  sapphire  \n",
       "2    gold   diamond  \n",
       "3    gold  amethyst  \n",
       "4    gold       NaN  "
      ]
     },
     "execution_count": 19,
     "metadata": {},
     "output_type": "execute_result"
    }
   ],
   "source": [
    "df.drop(columns='purchase',inplace=True)\n",
    "df.head()"
   ]
  },
  {
   "cell_type": "code",
   "execution_count": 20,
   "id": "73a1f09d",
   "metadata": {},
   "outputs": [
    {
     "data": {
      "text/plain": [
       "0        2018-12-01\n",
       "1        2018-12-02\n",
       "2        2018-12-02\n",
       "3        2018-12-02\n",
       "4        2018-12-02\n",
       "            ...    \n",
       "95905    2021-12-01\n",
       "95906    2021-12-01\n",
       "95907    2021-12-01\n",
       "95908    2021-12-01\n",
       "95909    2021-12-01\n",
       "Name: date, Length: 95910, dtype: object"
      ]
     },
     "execution_count": 20,
     "metadata": {},
     "output_type": "execute_result"
    }
   ],
   "source": [
    "import datetime as dt\n",
    "# import matplotlib.pyplot as plt\n",
    "df['date'] = pd.to_datetime(df['order_date']).dt.date\n",
    "df['date']"
   ]
  },
  {
   "cell_type": "code",
   "execution_count": 21,
   "id": "7be67c7f",
   "metadata": {},
   "outputs": [
    {
     "data": {
      "text/plain": [
       "0    2018\n",
       "1    2018\n",
       "2    2018\n",
       "3    2018\n",
       "4    2018\n",
       "Name: year, dtype: int64"
      ]
     },
     "execution_count": 21,
     "metadata": {},
     "output_type": "execute_result"
    }
   ],
   "source": [
    "df['year'] = pd.DatetimeIndex(df['date']).year\n",
    "df['year'][:5]"
   ]
  },
  {
   "cell_type": "code",
   "execution_count": 22,
   "id": "6eff8f79",
   "metadata": {},
   "outputs": [
    {
     "data": {
      "text/plain": [
       "0    12\n",
       "1    12\n",
       "2    12\n",
       "3    12\n",
       "4    12\n",
       "Name: month, dtype: int64"
      ]
     },
     "execution_count": 22,
     "metadata": {},
     "output_type": "execute_result"
    }
   ],
   "source": [
    "df['month'] = pd.DatetimeIndex(df['date']).month\n",
    "df['month'][:5]"
   ]
  },
  {
   "cell_type": "code",
   "execution_count": 23,
   "id": "2ef8ca85",
   "metadata": {},
   "outputs": [
    {
     "data": {
      "text/plain": [
       "12"
      ]
     },
     "execution_count": 23,
     "metadata": {},
     "output_type": "execute_result"
    }
   ],
   "source": [
    "#12 months, all clear\n",
    "df['month'].nunique()"
   ]
  },
  {
   "cell_type": "code",
   "execution_count": 24,
   "id": "53e7675a",
   "metadata": {},
   "outputs": [
    {
     "data": {
      "text/plain": [
       "0"
      ]
     },
     "execution_count": 24,
     "metadata": {},
     "output_type": "execute_result"
    }
   ],
   "source": [
    "df['price'].fillna(0,inplace=True)\n",
    "df['price'].isna().sum()"
   ]
  },
  {
   "cell_type": "code",
   "execution_count": 25,
   "id": "716eeb21",
   "metadata": {},
   "outputs": [
    {
     "data": {
      "text/plain": [
       "0       NaN\n",
       "1       NaN\n",
       "2       NaN\n",
       "3       NaN\n",
       "4       NaN\n",
       "         ..\n",
       "95905   NaN\n",
       "95906   NaN\n",
       "95907   NaN\n",
       "95908   NaN\n",
       "95909   NaN\n",
       "Name: price, Length: 95910, dtype: float64"
      ]
     },
     "execution_count": 25,
     "metadata": {},
     "output_type": "execute_result"
    }
   ],
   "source": [
    "df['price'].map({'inf':0,'NaN':0})"
   ]
  },
  {
   "cell_type": "code",
   "execution_count": 26,
   "id": "bd79f661",
   "metadata": {},
   "outputs": [
    {
     "data": {
      "text/plain": [
       "0    212\n",
       "1     54\n",
       "2     88\n",
       "3    417\n",
       "4    102\n",
       "Name: price, dtype: int32"
      ]
     },
     "execution_count": 26,
     "metadata": {},
     "output_type": "execute_result"
    }
   ],
   "source": [
    "df['price'] = df['price'].astype(int)\n",
    "df['price'].head()"
   ]
  },
  {
   "cell_type": "code",
   "execution_count": 27,
   "id": "8d2e9852",
   "metadata": {},
   "outputs": [
    {
     "data": {
      "text/plain": [
       "218"
      ]
     },
     "execution_count": 27,
     "metadata": {},
     "output_type": "execute_result"
    }
   ],
   "source": [
    "df['category'] = df['category'].str.strip()\n",
    "df['category'].nunique()"
   ]
  },
  {
   "cell_type": "code",
   "execution_count": 28,
   "id": "735b636f",
   "metadata": {},
   "outputs": [
    {
     "data": {
      "text/html": [
       "<div>\n",
       "<style scoped>\n",
       "    .dataframe tbody tr th:only-of-type {\n",
       "        vertical-align: middle;\n",
       "    }\n",
       "\n",
       "    .dataframe tbody tr th {\n",
       "        vertical-align: top;\n",
       "    }\n",
       "\n",
       "    .dataframe thead th {\n",
       "        text-align: right;\n",
       "    }\n",
       "</style>\n",
       "<table border=\"1\" class=\"dataframe\">\n",
       "  <thead>\n",
       "    <tr style=\"text-align: right;\">\n",
       "      <th></th>\n",
       "      <th>order_date</th>\n",
       "      <th>category</th>\n",
       "      <th>brand</th>\n",
       "      <th>price</th>\n",
       "      <th>buyer</th>\n",
       "      <th>colour1</th>\n",
       "      <th>colour2</th>\n",
       "      <th>type</th>\n",
       "      <th>date</th>\n",
       "      <th>year</th>\n",
       "      <th>month</th>\n",
       "    </tr>\n",
       "  </thead>\n",
       "  <tbody>\n",
       "    <tr>\n",
       "      <th>0</th>\n",
       "      <td>2018-12-01 17:38:31 UTC</td>\n",
       "      <td>NaN</td>\n",
       "      <td>NaN</td>\n",
       "      <td>212</td>\n",
       "      <td>NaN</td>\n",
       "      <td>yellow</td>\n",
       "      <td>gold</td>\n",
       "      <td>NaN</td>\n",
       "      <td>2018-12-01</td>\n",
       "      <td>2018</td>\n",
       "      <td>12</td>\n",
       "    </tr>\n",
       "    <tr>\n",
       "      <th>1</th>\n",
       "      <td>2018-12-02 13:53:42 UTC</td>\n",
       "      <td>jewelry.pendant</td>\n",
       "      <td>1.0</td>\n",
       "      <td>54</td>\n",
       "      <td>f</td>\n",
       "      <td>white</td>\n",
       "      <td>gold</td>\n",
       "      <td>sapphire</td>\n",
       "      <td>2018-12-02</td>\n",
       "      <td>2018</td>\n",
       "      <td>12</td>\n",
       "    </tr>\n",
       "    <tr>\n",
       "      <th>2</th>\n",
       "      <td>2018-12-02 17:44:02 UTC</td>\n",
       "      <td>jewelry.pendant</td>\n",
       "      <td>0.0</td>\n",
       "      <td>88</td>\n",
       "      <td>f</td>\n",
       "      <td>red</td>\n",
       "      <td>gold</td>\n",
       "      <td>diamond</td>\n",
       "      <td>2018-12-02</td>\n",
       "      <td>2018</td>\n",
       "      <td>12</td>\n",
       "    </tr>\n",
       "    <tr>\n",
       "      <th>3</th>\n",
       "      <td>2018-12-02 21:30:19 UTC</td>\n",
       "      <td>jewelry.necklace</td>\n",
       "      <td>0.0</td>\n",
       "      <td>417</td>\n",
       "      <td>NaN</td>\n",
       "      <td>red</td>\n",
       "      <td>gold</td>\n",
       "      <td>amethyst</td>\n",
       "      <td>2018-12-02</td>\n",
       "      <td>2018</td>\n",
       "      <td>12</td>\n",
       "    </tr>\n",
       "    <tr>\n",
       "      <th>4</th>\n",
       "      <td>2018-12-02 22:09:34 UTC</td>\n",
       "      <td>jewelry.earring</td>\n",
       "      <td>1.0</td>\n",
       "      <td>102</td>\n",
       "      <td>NaN</td>\n",
       "      <td>red</td>\n",
       "      <td>gold</td>\n",
       "      <td>NaN</td>\n",
       "      <td>2018-12-02</td>\n",
       "      <td>2018</td>\n",
       "      <td>12</td>\n",
       "    </tr>\n",
       "  </tbody>\n",
       "</table>\n",
       "</div>"
      ],
      "text/plain": [
       "                order_date          category  brand  price buyer colour1  \\\n",
       "0  2018-12-01 17:38:31 UTC               NaN    NaN    212   NaN  yellow   \n",
       "1  2018-12-02 13:53:42 UTC   jewelry.pendant    1.0     54     f   white   \n",
       "2  2018-12-02 17:44:02 UTC   jewelry.pendant    0.0     88     f     red   \n",
       "3  2018-12-02 21:30:19 UTC  jewelry.necklace    0.0    417   NaN     red   \n",
       "4  2018-12-02 22:09:34 UTC   jewelry.earring    1.0    102   NaN     red   \n",
       "\n",
       "  colour2      type        date  year  month  \n",
       "0    gold       NaN  2018-12-01  2018     12  \n",
       "1    gold  sapphire  2018-12-02  2018     12  \n",
       "2    gold   diamond  2018-12-02  2018     12  \n",
       "3    gold  amethyst  2018-12-02  2018     12  \n",
       "4    gold       NaN  2018-12-02  2018     12  "
      ]
     },
     "execution_count": 28,
     "metadata": {},
     "output_type": "execute_result"
    }
   ],
   "source": [
    "df.head(5)"
   ]
  },
  {
   "cell_type": "code",
   "execution_count": 29,
   "id": "bf4b1cea",
   "metadata": {},
   "outputs": [],
   "source": [
    "#there is a dot notation to the category column\n",
    "\n",
    "df['category'] =  df['category'].str.split('.')\n",
    "df['sub_category'] = df['category'].str[1]\n"
   ]
  },
  {
   "cell_type": "code",
   "execution_count": 30,
   "id": "94720461",
   "metadata": {},
   "outputs": [
    {
     "data": {
      "text/plain": [
       "array([nan, 'pendant', 'necklace', 'earring', 'ring', 'brooch',\n",
       "       'bracelet', 'clocks', 'souvenir', '12', '36', '03', '78', '62',\n",
       "       '27', '25', '16', '37', '22', '55', '82', '15', '45', '47', '38',\n",
       "       '44', '08', '97', '73', '90', '10', '49', '33', '75', '01', '95',\n",
       "       'stud', '56', '07', '53', '18', '89', '66', '58', '19', '21', '04',\n",
       "       '26', '52', '88', '23', '93', '77', '92', '48', '11', '84', '68',\n",
       "       '85', '05', '51', '81', '74', '42', '79', '70', '40', '41', '59',\n",
       "       '30', '96', '71', '60', '34', '67', '99', '64', '63', '00', '76'],\n",
       "      dtype=object)"
      ]
     },
     "execution_count": 30,
     "metadata": {},
     "output_type": "execute_result"
    }
   ],
   "source": [
    "df['sub_category'].unique()"
   ]
  },
  {
   "cell_type": "code",
   "execution_count": 31,
   "id": "c731cbf6",
   "metadata": {},
   "outputs": [],
   "source": [
    "#it appears there are codes as well in this column, \n",
    "#let us try extract the better known jewelry types\n",
    "\n",
    "jewelry_list = ['pendant', 'necklace', 'earring', 'ring', 'brooch','bracelet', 'clocks', 'souvenir']\n",
    "df = df[df['sub_category'].isin(jewelry_list)]"
   ]
  },
  {
   "cell_type": "code",
   "execution_count": 32,
   "id": "cb4edbcf",
   "metadata": {},
   "outputs": [
    {
     "data": {
      "text/plain": [
       "earring     29051\n",
       "ring        28300\n",
       "pendant     13088\n",
       "bracelet     6188\n",
       "necklace     2361\n",
       "brooch       1288\n",
       "souvenir      170\n",
       "clocks        167\n",
       "Name: sub_category, dtype: int64"
      ]
     },
     "execution_count": 32,
     "metadata": {},
     "output_type": "execute_result"
    }
   ],
   "source": [
    "df['sub_category'].value_counts()"
   ]
  },
  {
   "cell_type": "code",
   "execution_count": 33,
   "id": "d7be2999",
   "metadata": {},
   "outputs": [
    {
     "data": {
      "text/html": [
       "<div>\n",
       "<style scoped>\n",
       "    .dataframe tbody tr th:only-of-type {\n",
       "        vertical-align: middle;\n",
       "    }\n",
       "\n",
       "    .dataframe tbody tr th {\n",
       "        vertical-align: top;\n",
       "    }\n",
       "\n",
       "    .dataframe thead th {\n",
       "        text-align: right;\n",
       "    }\n",
       "</style>\n",
       "<table border=\"1\" class=\"dataframe\">\n",
       "  <thead>\n",
       "    <tr style=\"text-align: right;\">\n",
       "      <th></th>\n",
       "      <th>order_date</th>\n",
       "      <th>category</th>\n",
       "      <th>brand</th>\n",
       "      <th>price</th>\n",
       "      <th>buyer</th>\n",
       "      <th>colour1</th>\n",
       "      <th>colour2</th>\n",
       "      <th>type</th>\n",
       "      <th>date</th>\n",
       "      <th>year</th>\n",
       "      <th>month</th>\n",
       "      <th>sub_category</th>\n",
       "    </tr>\n",
       "  </thead>\n",
       "  <tbody>\n",
       "    <tr>\n",
       "      <th>1</th>\n",
       "      <td>2018-12-02 13:53:42 UTC</td>\n",
       "      <td>[jewelry, pendant]</td>\n",
       "      <td>1.0</td>\n",
       "      <td>54</td>\n",
       "      <td>f</td>\n",
       "      <td>white</td>\n",
       "      <td>gold</td>\n",
       "      <td>sapphire</td>\n",
       "      <td>2018-12-02</td>\n",
       "      <td>2018</td>\n",
       "      <td>12</td>\n",
       "      <td>pendant</td>\n",
       "    </tr>\n",
       "    <tr>\n",
       "      <th>2</th>\n",
       "      <td>2018-12-02 17:44:02 UTC</td>\n",
       "      <td>[jewelry, pendant]</td>\n",
       "      <td>0.0</td>\n",
       "      <td>88</td>\n",
       "      <td>f</td>\n",
       "      <td>red</td>\n",
       "      <td>gold</td>\n",
       "      <td>diamond</td>\n",
       "      <td>2018-12-02</td>\n",
       "      <td>2018</td>\n",
       "      <td>12</td>\n",
       "      <td>pendant</td>\n",
       "    </tr>\n",
       "    <tr>\n",
       "      <th>3</th>\n",
       "      <td>2018-12-02 21:30:19 UTC</td>\n",
       "      <td>[jewelry, necklace]</td>\n",
       "      <td>0.0</td>\n",
       "      <td>417</td>\n",
       "      <td>NaN</td>\n",
       "      <td>red</td>\n",
       "      <td>gold</td>\n",
       "      <td>amethyst</td>\n",
       "      <td>2018-12-02</td>\n",
       "      <td>2018</td>\n",
       "      <td>12</td>\n",
       "      <td>necklace</td>\n",
       "    </tr>\n",
       "    <tr>\n",
       "      <th>4</th>\n",
       "      <td>2018-12-02 22:09:34 UTC</td>\n",
       "      <td>[jewelry, earring]</td>\n",
       "      <td>1.0</td>\n",
       "      <td>102</td>\n",
       "      <td>NaN</td>\n",
       "      <td>red</td>\n",
       "      <td>gold</td>\n",
       "      <td>NaN</td>\n",
       "      <td>2018-12-02</td>\n",
       "      <td>2018</td>\n",
       "      <td>12</td>\n",
       "      <td>earring</td>\n",
       "    </tr>\n",
       "    <tr>\n",
       "      <th>5</th>\n",
       "      <td>2018-12-02 22:09:34 UTC</td>\n",
       "      <td>[jewelry, earring]</td>\n",
       "      <td>0.0</td>\n",
       "      <td>150</td>\n",
       "      <td>NaN</td>\n",
       "      <td>red</td>\n",
       "      <td>gold</td>\n",
       "      <td>diamond</td>\n",
       "      <td>2018-12-02</td>\n",
       "      <td>2018</td>\n",
       "      <td>12</td>\n",
       "      <td>earring</td>\n",
       "    </tr>\n",
       "  </tbody>\n",
       "</table>\n",
       "</div>"
      ],
      "text/plain": [
       "                order_date             category  brand  price buyer colour1  \\\n",
       "1  2018-12-02 13:53:42 UTC   [jewelry, pendant]    1.0     54     f   white   \n",
       "2  2018-12-02 17:44:02 UTC   [jewelry, pendant]    0.0     88     f     red   \n",
       "3  2018-12-02 21:30:19 UTC  [jewelry, necklace]    0.0    417   NaN     red   \n",
       "4  2018-12-02 22:09:34 UTC   [jewelry, earring]    1.0    102   NaN     red   \n",
       "5  2018-12-02 22:09:34 UTC   [jewelry, earring]    0.0    150   NaN     red   \n",
       "\n",
       "  colour2      type        date  year  month sub_category  \n",
       "1    gold  sapphire  2018-12-02  2018     12      pendant  \n",
       "2    gold   diamond  2018-12-02  2018     12      pendant  \n",
       "3    gold  amethyst  2018-12-02  2018     12     necklace  \n",
       "4    gold       NaN  2018-12-02  2018     12      earring  \n",
       "5    gold   diamond  2018-12-02  2018     12      earring  "
      ]
     },
     "execution_count": 33,
     "metadata": {},
     "output_type": "execute_result"
    }
   ],
   "source": [
    "df.head()"
   ]
  },
  {
   "cell_type": "code",
   "execution_count": 23,
   "id": "2b195963",
   "metadata": {},
   "outputs": [
    {
     "data": {
      "text/plain": [
       "<AxesSubplot:ylabel='buyer'>"
      ]
     },
     "execution_count": 23,
     "metadata": {},
     "output_type": "execute_result"
    },
    {
     "data": {
      "image/png": "[encoded data removed]",
      "text/plain": [
       "<Figure size 432x288 with 1 Axes>"
      ]
     },
     "metadata": {},
     "output_type": "display_data"
    }
   ],
   "source": [
    "df['buyer'].value_counts().plot(kind='pie')"
   ]
  },
  {
   "cell_type": "code",
   "execution_count": 36,
   "id": "ab5f6f64",
   "metadata": {},
   "outputs": [
    {
     "data": {
      "text/html": [
       "<div>\n",
       "<style scoped>\n",
       "    .dataframe tbody tr th:only-of-type {\n",
       "        vertical-align: middle;\n",
       "    }\n",
       "\n",
       "    .dataframe tbody tr th {\n",
       "        vertical-align: top;\n",
       "    }\n",
       "\n",
       "    .dataframe thead th {\n",
       "        text-align: right;\n",
       "    }\n",
       "</style>\n",
       "<table border=\"1\" class=\"dataframe\">\n",
       "  <thead>\n",
       "    <tr style=\"text-align: right;\">\n",
       "      <th></th>\n",
       "      <th>order_date</th>\n",
       "      <th>category</th>\n",
       "      <th>brand</th>\n",
       "      <th>price</th>\n",
       "      <th>buyer</th>\n",
       "      <th>colour1</th>\n",
       "      <th>colour2</th>\n",
       "      <th>type</th>\n",
       "      <th>date</th>\n",
       "      <th>year</th>\n",
       "      <th>month</th>\n",
       "      <th>sub_category</th>\n",
       "    </tr>\n",
       "  </thead>\n",
       "  <tbody>\n",
       "    <tr>\n",
       "      <th>1</th>\n",
       "      <td>2018-12-02 13:53:42 UTC</td>\n",
       "      <td>[jewelry, pendant]</td>\n",
       "      <td>1.0</td>\n",
       "      <td>54</td>\n",
       "      <td>f</td>\n",
       "      <td>white</td>\n",
       "      <td>gold</td>\n",
       "      <td>sapphire</td>\n",
       "      <td>2018-12-02</td>\n",
       "      <td>2018</td>\n",
       "      <td>12</td>\n",
       "      <td>pendant</td>\n",
       "    </tr>\n",
       "    <tr>\n",
       "      <th>2</th>\n",
       "      <td>2018-12-02 17:44:02 UTC</td>\n",
       "      <td>[jewelry, pendant]</td>\n",
       "      <td>0.0</td>\n",
       "      <td>88</td>\n",
       "      <td>f</td>\n",
       "      <td>red</td>\n",
       "      <td>gold</td>\n",
       "      <td>diamond</td>\n",
       "      <td>2018-12-02</td>\n",
       "      <td>2018</td>\n",
       "      <td>12</td>\n",
       "      <td>pendant</td>\n",
       "    </tr>\n",
       "    <tr>\n",
       "      <th>7</th>\n",
       "      <td>2018-12-03 07:03:49 UTC</td>\n",
       "      <td>[jewelry, pendant]</td>\n",
       "      <td>2.0</td>\n",
       "      <td>60</td>\n",
       "      <td>f</td>\n",
       "      <td>red</td>\n",
       "      <td>gold</td>\n",
       "      <td>pearl</td>\n",
       "      <td>2018-12-03</td>\n",
       "      <td>2018</td>\n",
       "      <td>12</td>\n",
       "      <td>pendant</td>\n",
       "    </tr>\n",
       "    <tr>\n",
       "      <th>18</th>\n",
       "      <td>2018-12-04 19:55:22 UTC</td>\n",
       "      <td>[jewelry, earring]</td>\n",
       "      <td>1.0</td>\n",
       "      <td>102</td>\n",
       "      <td>f</td>\n",
       "      <td>yellow</td>\n",
       "      <td>gold</td>\n",
       "      <td>garnet</td>\n",
       "      <td>2018-12-04</td>\n",
       "      <td>2018</td>\n",
       "      <td>12</td>\n",
       "      <td>earring</td>\n",
       "    </tr>\n",
       "    <tr>\n",
       "      <th>19</th>\n",
       "      <td>2018-12-04 20:10:22 UTC</td>\n",
       "      <td>[jewelry, pendant]</td>\n",
       "      <td>1.0</td>\n",
       "      <td>61</td>\n",
       "      <td>f</td>\n",
       "      <td>yellow</td>\n",
       "      <td>gold</td>\n",
       "      <td>garnet</td>\n",
       "      <td>2018-12-04</td>\n",
       "      <td>2018</td>\n",
       "      <td>12</td>\n",
       "      <td>pendant</td>\n",
       "    </tr>\n",
       "    <tr>\n",
       "      <th>...</th>\n",
       "      <td>...</td>\n",
       "      <td>...</td>\n",
       "      <td>...</td>\n",
       "      <td>...</td>\n",
       "      <td>...</td>\n",
       "      <td>...</td>\n",
       "      <td>...</td>\n",
       "      <td>...</td>\n",
       "      <td>...</td>\n",
       "      <td>...</td>\n",
       "      <td>...</td>\n",
       "      <td>...</td>\n",
       "    </tr>\n",
       "    <tr>\n",
       "      <th>95887</th>\n",
       "      <td>2021-12-01 08:56:09 UTC</td>\n",
       "      <td>[jewelry, ring]</td>\n",
       "      <td>2.0</td>\n",
       "      <td>527</td>\n",
       "      <td>f</td>\n",
       "      <td>red</td>\n",
       "      <td>gold</td>\n",
       "      <td>diamond</td>\n",
       "      <td>2021-12-01</td>\n",
       "      <td>2021</td>\n",
       "      <td>12</td>\n",
       "      <td>ring</td>\n",
       "    </tr>\n",
       "    <tr>\n",
       "      <th>95888</th>\n",
       "      <td>2021-12-01 08:57:17 UTC</td>\n",
       "      <td>[jewelry, earring]</td>\n",
       "      <td>1.0</td>\n",
       "      <td>1308</td>\n",
       "      <td>f</td>\n",
       "      <td>red</td>\n",
       "      <td>gold</td>\n",
       "      <td>topaz</td>\n",
       "      <td>2021-12-01</td>\n",
       "      <td>2021</td>\n",
       "      <td>12</td>\n",
       "      <td>earring</td>\n",
       "    </tr>\n",
       "    <tr>\n",
       "      <th>95896</th>\n",
       "      <td>2021-12-01 09:15:46 UTC</td>\n",
       "      <td>[jewelry, pendant]</td>\n",
       "      <td>1.0</td>\n",
       "      <td>91</td>\n",
       "      <td>f</td>\n",
       "      <td>red</td>\n",
       "      <td>gold</td>\n",
       "      <td>fianit</td>\n",
       "      <td>2021-12-01</td>\n",
       "      <td>2021</td>\n",
       "      <td>12</td>\n",
       "      <td>pendant</td>\n",
       "    </tr>\n",
       "    <tr>\n",
       "      <th>95899</th>\n",
       "      <td>2021-12-01 09:23:52 UTC</td>\n",
       "      <td>[jewelry, earring]</td>\n",
       "      <td>1.0</td>\n",
       "      <td>821</td>\n",
       "      <td>f</td>\n",
       "      <td>red</td>\n",
       "      <td>gold</td>\n",
       "      <td>diamond</td>\n",
       "      <td>2021-12-01</td>\n",
       "      <td>2021</td>\n",
       "      <td>12</td>\n",
       "      <td>earring</td>\n",
       "    </tr>\n",
       "    <tr>\n",
       "      <th>95907</th>\n",
       "      <td>2021-12-01 09:52:06 UTC</td>\n",
       "      <td>[jewelry, earring]</td>\n",
       "      <td>1.0</td>\n",
       "      <td>630</td>\n",
       "      <td>f</td>\n",
       "      <td>white</td>\n",
       "      <td>gold</td>\n",
       "      <td>diamond</td>\n",
       "      <td>2021-12-01</td>\n",
       "      <td>2021</td>\n",
       "      <td>12</td>\n",
       "      <td>earring</td>\n",
       "    </tr>\n",
       "  </tbody>\n",
       "</table>\n",
       "<p>34027 rows × 12 columns</p>\n",
       "</div>"
      ],
      "text/plain": [
       "                    order_date            category  brand  price buyer  \\\n",
       "1      2018-12-02 13:53:42 UTC  [jewelry, pendant]    1.0     54     f   \n",
       "2      2018-12-02 17:44:02 UTC  [jewelry, pendant]    0.0     88     f   \n",
       "7      2018-12-03 07:03:49 UTC  [jewelry, pendant]    2.0     60     f   \n",
       "18     2018-12-04 19:55:22 UTC  [jewelry, earring]    1.0    102     f   \n",
       "19     2018-12-04 20:10:22 UTC  [jewelry, pendant]    1.0     61     f   \n",
       "...                        ...                 ...    ...    ...   ...   \n",
       "95887  2021-12-01 08:56:09 UTC     [jewelry, ring]    2.0    527     f   \n",
       "95888  2021-12-01 08:57:17 UTC  [jewelry, earring]    1.0   1308     f   \n",
       "95896  2021-12-01 09:15:46 UTC  [jewelry, pendant]    1.0     91     f   \n",
       "95899  2021-12-01 09:23:52 UTC  [jewelry, earring]    1.0    821     f   \n",
       "95907  2021-12-01 09:52:06 UTC  [jewelry, earring]    1.0    630     f   \n",
       "\n",
       "      colour1 colour2      type        date  year  month sub_category  \n",
       "1       white    gold  sapphire  2018-12-02  2018     12      pendant  \n",
       "2         red    gold   diamond  2018-12-02  2018     12      pendant  \n",
       "7         red    gold     pearl  2018-12-03  2018     12      pendant  \n",
       "18     yellow    gold    garnet  2018-12-04  2018     12      earring  \n",
       "19     yellow    gold    garnet  2018-12-04  2018     12      pendant  \n",
       "...       ...     ...       ...         ...   ...    ...          ...  \n",
       "95887     red    gold   diamond  2021-12-01  2021     12         ring  \n",
       "95888     red    gold     topaz  2021-12-01  2021     12      earring  \n",
       "95896     red    gold    fianit  2021-12-01  2021     12      pendant  \n",
       "95899     red    gold   diamond  2021-12-01  2021     12      earring  \n",
       "95907   white    gold   diamond  2021-12-01  2021     12      earring  \n",
       "\n",
       "[34027 rows x 12 columns]"
      ]
     },
     "execution_count": 36,
     "metadata": {},
     "output_type": "execute_result"
    }
   ],
   "source": [
    "df.dropna()"
   ]
  },
  {
   "cell_type": "code",
   "execution_count": 37,
   "id": "970b4702",
   "metadata": {},
   "outputs": [
    {
     "data": {
      "text/html": [
       "<div>\n",
       "<style scoped>\n",
       "    .dataframe tbody tr th:only-of-type {\n",
       "        vertical-align: middle;\n",
       "    }\n",
       "\n",
       "    .dataframe tbody tr th {\n",
       "        vertical-align: top;\n",
       "    }\n",
       "\n",
       "    .dataframe thead th {\n",
       "        text-align: right;\n",
       "    }\n",
       "</style>\n",
       "<table border=\"1\" class=\"dataframe\">\n",
       "  <thead>\n",
       "    <tr style=\"text-align: right;\">\n",
       "      <th></th>\n",
       "      <th>order_date</th>\n",
       "      <th>category</th>\n",
       "      <th>brand</th>\n",
       "      <th>price</th>\n",
       "      <th>buyer</th>\n",
       "      <th>colour1</th>\n",
       "      <th>colour2</th>\n",
       "      <th>type</th>\n",
       "      <th>date</th>\n",
       "      <th>year</th>\n",
       "      <th>month</th>\n",
       "      <th>sub_category</th>\n",
       "    </tr>\n",
       "  </thead>\n",
       "  <tbody>\n",
       "    <tr>\n",
       "      <th>1</th>\n",
       "      <td>2018-12-02 13:53:42 UTC</td>\n",
       "      <td>[jewelry, pendant]</td>\n",
       "      <td>1.0</td>\n",
       "      <td>54</td>\n",
       "      <td>f</td>\n",
       "      <td>white</td>\n",
       "      <td>gold</td>\n",
       "      <td>sapphire</td>\n",
       "      <td>2018-12-02</td>\n",
       "      <td>2018</td>\n",
       "      <td>12</td>\n",
       "      <td>pendant</td>\n",
       "    </tr>\n",
       "    <tr>\n",
       "      <th>2</th>\n",
       "      <td>2018-12-02 17:44:02 UTC</td>\n",
       "      <td>[jewelry, pendant]</td>\n",
       "      <td>0.0</td>\n",
       "      <td>88</td>\n",
       "      <td>f</td>\n",
       "      <td>red</td>\n",
       "      <td>gold</td>\n",
       "      <td>diamond</td>\n",
       "      <td>2018-12-02</td>\n",
       "      <td>2018</td>\n",
       "      <td>12</td>\n",
       "      <td>pendant</td>\n",
       "    </tr>\n",
       "    <tr>\n",
       "      <th>3</th>\n",
       "      <td>2018-12-02 21:30:19 UTC</td>\n",
       "      <td>[jewelry, necklace]</td>\n",
       "      <td>0.0</td>\n",
       "      <td>417</td>\n",
       "      <td>NaN</td>\n",
       "      <td>red</td>\n",
       "      <td>gold</td>\n",
       "      <td>amethyst</td>\n",
       "      <td>2018-12-02</td>\n",
       "      <td>2018</td>\n",
       "      <td>12</td>\n",
       "      <td>necklace</td>\n",
       "    </tr>\n",
       "    <tr>\n",
       "      <th>4</th>\n",
       "      <td>2018-12-02 22:09:34 UTC</td>\n",
       "      <td>[jewelry, earring]</td>\n",
       "      <td>1.0</td>\n",
       "      <td>102</td>\n",
       "      <td>NaN</td>\n",
       "      <td>red</td>\n",
       "      <td>gold</td>\n",
       "      <td>NaN</td>\n",
       "      <td>2018-12-02</td>\n",
       "      <td>2018</td>\n",
       "      <td>12</td>\n",
       "      <td>earring</td>\n",
       "    </tr>\n",
       "    <tr>\n",
       "      <th>5</th>\n",
       "      <td>2018-12-02 22:09:34 UTC</td>\n",
       "      <td>[jewelry, earring]</td>\n",
       "      <td>0.0</td>\n",
       "      <td>150</td>\n",
       "      <td>NaN</td>\n",
       "      <td>red</td>\n",
       "      <td>gold</td>\n",
       "      <td>diamond</td>\n",
       "      <td>2018-12-02</td>\n",
       "      <td>2018</td>\n",
       "      <td>12</td>\n",
       "      <td>earring</td>\n",
       "    </tr>\n",
       "    <tr>\n",
       "      <th>...</th>\n",
       "      <td>...</td>\n",
       "      <td>...</td>\n",
       "      <td>...</td>\n",
       "      <td>...</td>\n",
       "      <td>...</td>\n",
       "      <td>...</td>\n",
       "      <td>...</td>\n",
       "      <td>...</td>\n",
       "      <td>...</td>\n",
       "      <td>...</td>\n",
       "      <td>...</td>\n",
       "      <td>...</td>\n",
       "    </tr>\n",
       "    <tr>\n",
       "      <th>95900</th>\n",
       "      <td>2021-12-01 09:32:35 UTC</td>\n",
       "      <td>[jewelry, ring]</td>\n",
       "      <td>0.0</td>\n",
       "      <td>145</td>\n",
       "      <td>NaN</td>\n",
       "      <td>red</td>\n",
       "      <td>gold</td>\n",
       "      <td>NaN</td>\n",
       "      <td>2021-12-01</td>\n",
       "      <td>2021</td>\n",
       "      <td>12</td>\n",
       "      <td>ring</td>\n",
       "    </tr>\n",
       "    <tr>\n",
       "      <th>95903</th>\n",
       "      <td>2021-12-01 09:37:28 UTC</td>\n",
       "      <td>[jewelry, earring]</td>\n",
       "      <td>0.0</td>\n",
       "      <td>301</td>\n",
       "      <td>NaN</td>\n",
       "      <td>red</td>\n",
       "      <td>gold</td>\n",
       "      <td>amethyst</td>\n",
       "      <td>2021-12-01</td>\n",
       "      <td>2021</td>\n",
       "      <td>12</td>\n",
       "      <td>earring</td>\n",
       "    </tr>\n",
       "    <tr>\n",
       "      <th>95907</th>\n",
       "      <td>2021-12-01 09:52:06 UTC</td>\n",
       "      <td>[jewelry, earring]</td>\n",
       "      <td>1.0</td>\n",
       "      <td>630</td>\n",
       "      <td>f</td>\n",
       "      <td>white</td>\n",
       "      <td>gold</td>\n",
       "      <td>diamond</td>\n",
       "      <td>2021-12-01</td>\n",
       "      <td>2021</td>\n",
       "      <td>12</td>\n",
       "      <td>earring</td>\n",
       "    </tr>\n",
       "    <tr>\n",
       "      <th>95908</th>\n",
       "      <td>2021-12-01 09:55:35 UTC</td>\n",
       "      <td>[jewelry, earring]</td>\n",
       "      <td>0.0</td>\n",
       "      <td>83</td>\n",
       "      <td>NaN</td>\n",
       "      <td>white</td>\n",
       "      <td>gold</td>\n",
       "      <td>fianit</td>\n",
       "      <td>2021-12-01</td>\n",
       "      <td>2021</td>\n",
       "      <td>12</td>\n",
       "      <td>earring</td>\n",
       "    </tr>\n",
       "    <tr>\n",
       "      <th>95909</th>\n",
       "      <td>2021-12-01 09:59:07 UTC</td>\n",
       "      <td>[jewelry, pendant]</td>\n",
       "      <td>1.0</td>\n",
       "      <td>97</td>\n",
       "      <td>NaN</td>\n",
       "      <td>red</td>\n",
       "      <td>gold</td>\n",
       "      <td>NaN</td>\n",
       "      <td>2021-12-01</td>\n",
       "      <td>2021</td>\n",
       "      <td>12</td>\n",
       "      <td>pendant</td>\n",
       "    </tr>\n",
       "  </tbody>\n",
       "</table>\n",
       "<p>80613 rows × 12 columns</p>\n",
       "</div>"
      ],
      "text/plain": [
       "                    order_date             category  brand  price buyer  \\\n",
       "1      2018-12-02 13:53:42 UTC   [jewelry, pendant]    1.0     54     f   \n",
       "2      2018-12-02 17:44:02 UTC   [jewelry, pendant]    0.0     88     f   \n",
       "3      2018-12-02 21:30:19 UTC  [jewelry, necklace]    0.0    417   NaN   \n",
       "4      2018-12-02 22:09:34 UTC   [jewelry, earring]    1.0    102   NaN   \n",
       "5      2018-12-02 22:09:34 UTC   [jewelry, earring]    0.0    150   NaN   \n",
       "...                        ...                  ...    ...    ...   ...   \n",
       "95900  2021-12-01 09:32:35 UTC      [jewelry, ring]    0.0    145   NaN   \n",
       "95903  2021-12-01 09:37:28 UTC   [jewelry, earring]    0.0    301   NaN   \n",
       "95907  2021-12-01 09:52:06 UTC   [jewelry, earring]    1.0    630     f   \n",
       "95908  2021-12-01 09:55:35 UTC   [jewelry, earring]    0.0     83   NaN   \n",
       "95909  2021-12-01 09:59:07 UTC   [jewelry, pendant]    1.0     97   NaN   \n",
       "\n",
       "      colour1 colour2      type        date  year  month sub_category  \n",
       "1       white    gold  sapphire  2018-12-02  2018     12      pendant  \n",
       "2         red    gold   diamond  2018-12-02  2018     12      pendant  \n",
       "3         red    gold  amethyst  2018-12-02  2018     12     necklace  \n",
       "4         red    gold       NaN  2018-12-02  2018     12      earring  \n",
       "5         red    gold   diamond  2018-12-02  2018     12      earring  \n",
       "...       ...     ...       ...         ...   ...    ...          ...  \n",
       "95900     red    gold       NaN  2021-12-01  2021     12         ring  \n",
       "95903     red    gold  amethyst  2021-12-01  2021     12      earring  \n",
       "95907   white    gold   diamond  2021-12-01  2021     12      earring  \n",
       "95908   white    gold    fianit  2021-12-01  2021     12      earring  \n",
       "95909     red    gold       NaN  2021-12-01  2021     12      pendant  \n",
       "\n",
       "[80613 rows x 12 columns]"
      ]
     },
     "execution_count": 37,
     "metadata": {},
     "output_type": "execute_result"
    }
   ],
   "source": [
    "df"
   ]
  },
  {
   "cell_type": "code",
   "execution_count": 38,
   "id": "fe9c7f59",
   "metadata": {},
   "outputs": [],
   "source": [
    "df.to_csv(\"ss.csv\")"
   ]
  },
  {
   "cell_type": "code",
   "execution_count": 24,
   "id": "7f3697de",
   "metadata": {},
   "outputs": [],
   "source": [
    "df_men = pd.DataFrame(df[df['buyer']=='m'])"
   ]
  },
  {
   "cell_type": "code",
   "execution_count": 25,
   "id": "63bf668f",
   "metadata": {},
   "outputs": [
    {
     "data": {
      "text/html": [
       "<div>\n",
       "<style scoped>\n",
       "    .dataframe tbody tr th:only-of-type {\n",
       "        vertical-align: middle;\n",
       "    }\n",
       "\n",
       "    .dataframe tbody tr th {\n",
       "        vertical-align: top;\n",
       "    }\n",
       "\n",
       "    .dataframe thead th {\n",
       "        text-align: right;\n",
       "    }\n",
       "</style>\n",
       "<table border=\"1\" class=\"dataframe\">\n",
       "  <thead>\n",
       "    <tr style=\"text-align: right;\">\n",
       "      <th></th>\n",
       "      <th>order_date</th>\n",
       "      <th>category</th>\n",
       "      <th>brand</th>\n",
       "      <th>price</th>\n",
       "      <th>buyer</th>\n",
       "      <th>colour1</th>\n",
       "      <th>colour2</th>\n",
       "      <th>type</th>\n",
       "      <th>date</th>\n",
       "      <th>year</th>\n",
       "      <th>month</th>\n",
       "    </tr>\n",
       "    <tr>\n",
       "      <th>sub_category</th>\n",
       "      <th></th>\n",
       "      <th></th>\n",
       "      <th></th>\n",
       "      <th></th>\n",
       "      <th></th>\n",
       "      <th></th>\n",
       "      <th></th>\n",
       "      <th></th>\n",
       "      <th></th>\n",
       "      <th></th>\n",
       "      <th></th>\n",
       "    </tr>\n",
       "  </thead>\n",
       "  <tbody>\n",
       "    <tr>\n",
       "      <th>bracelet</th>\n",
       "      <td>13</td>\n",
       "      <td>13</td>\n",
       "      <td>10</td>\n",
       "      <td>13</td>\n",
       "      <td>13</td>\n",
       "      <td>2</td>\n",
       "      <td>13</td>\n",
       "      <td>0</td>\n",
       "      <td>13</td>\n",
       "      <td>13</td>\n",
       "      <td>13</td>\n",
       "    </tr>\n",
       "    <tr>\n",
       "      <th>clocks</th>\n",
       "      <td>45</td>\n",
       "      <td>45</td>\n",
       "      <td>39</td>\n",
       "      <td>45</td>\n",
       "      <td>45</td>\n",
       "      <td>2</td>\n",
       "      <td>45</td>\n",
       "      <td>0</td>\n",
       "      <td>45</td>\n",
       "      <td>45</td>\n",
       "      <td>45</td>\n",
       "    </tr>\n",
       "    <tr>\n",
       "      <th>pendant</th>\n",
       "      <td>12</td>\n",
       "      <td>12</td>\n",
       "      <td>12</td>\n",
       "      <td>12</td>\n",
       "      <td>12</td>\n",
       "      <td>12</td>\n",
       "      <td>12</td>\n",
       "      <td>0</td>\n",
       "      <td>12</td>\n",
       "      <td>12</td>\n",
       "      <td>12</td>\n",
       "    </tr>\n",
       "    <tr>\n",
       "      <th>ring</th>\n",
       "      <td>210</td>\n",
       "      <td>210</td>\n",
       "      <td>150</td>\n",
       "      <td>210</td>\n",
       "      <td>210</td>\n",
       "      <td>210</td>\n",
       "      <td>210</td>\n",
       "      <td>63</td>\n",
       "      <td>210</td>\n",
       "      <td>210</td>\n",
       "      <td>210</td>\n",
       "    </tr>\n",
       "  </tbody>\n",
       "</table>\n",
       "</div>"
      ],
      "text/plain": [
       "              order_date  category  brand  price  buyer  colour1  colour2  \\\n",
       "sub_category                                                                \n",
       "bracelet              13        13     10     13     13        2       13   \n",
       "clocks                45        45     39     45     45        2       45   \n",
       "pendant               12        12     12     12     12       12       12   \n",
       "ring                 210       210    150    210    210      210      210   \n",
       "\n",
       "              type  date  year  month  \n",
       "sub_category                           \n",
       "bracelet         0    13    13     13  \n",
       "clocks           0    45    45     45  \n",
       "pendant          0    12    12     12  \n",
       "ring            63   210   210    210  "
      ]
     },
     "execution_count": 25,
     "metadata": {},
     "output_type": "execute_result"
    }
   ],
   "source": [
    "df_men.groupby('sub_category').count()"
   ]
  },
  {
   "cell_type": "code",
   "execution_count": 26,
   "id": "289c0e24",
   "metadata": {},
   "outputs": [],
   "source": [
    "df1 = pd.DataFrame(df.drop(columns='brand'))"
   ]
  },
  {
   "cell_type": "code",
   "execution_count": 27,
   "id": "ef85309a",
   "metadata": {},
   "outputs": [
    {
     "data": {
      "text/html": [
       "<div>\n",
       "<style scoped>\n",
       "    .dataframe tbody tr th:only-of-type {\n",
       "        vertical-align: middle;\n",
       "    }\n",
       "\n",
       "    .dataframe tbody tr th {\n",
       "        vertical-align: top;\n",
       "    }\n",
       "\n",
       "    .dataframe thead th {\n",
       "        text-align: right;\n",
       "    }\n",
       "</style>\n",
       "<table border=\"1\" class=\"dataframe\">\n",
       "  <thead>\n",
       "    <tr style=\"text-align: right;\">\n",
       "      <th></th>\n",
       "      <th>order_date</th>\n",
       "      <th>category</th>\n",
       "      <th>price</th>\n",
       "      <th>buyer</th>\n",
       "      <th>colour1</th>\n",
       "      <th>colour2</th>\n",
       "      <th>type</th>\n",
       "      <th>date</th>\n",
       "      <th>year</th>\n",
       "      <th>month</th>\n",
       "      <th>sub_category</th>\n",
       "    </tr>\n",
       "  </thead>\n",
       "  <tbody>\n",
       "    <tr>\n",
       "      <th>1</th>\n",
       "      <td>2018-12-02 13:53:42 UTC</td>\n",
       "      <td>[jewelry, pendant]</td>\n",
       "      <td>54</td>\n",
       "      <td>f</td>\n",
       "      <td>white</td>\n",
       "      <td>gold</td>\n",
       "      <td>sapphire</td>\n",
       "      <td>2018-12-02</td>\n",
       "      <td>2018</td>\n",
       "      <td>12</td>\n",
       "      <td>pendant</td>\n",
       "    </tr>\n",
       "    <tr>\n",
       "      <th>2</th>\n",
       "      <td>2018-12-02 17:44:02 UTC</td>\n",
       "      <td>[jewelry, pendant]</td>\n",
       "      <td>88</td>\n",
       "      <td>f</td>\n",
       "      <td>red</td>\n",
       "      <td>gold</td>\n",
       "      <td>diamond</td>\n",
       "      <td>2018-12-02</td>\n",
       "      <td>2018</td>\n",
       "      <td>12</td>\n",
       "      <td>pendant</td>\n",
       "    </tr>\n",
       "    <tr>\n",
       "      <th>3</th>\n",
       "      <td>2018-12-02 21:30:19 UTC</td>\n",
       "      <td>[jewelry, necklace]</td>\n",
       "      <td>417</td>\n",
       "      <td>NaN</td>\n",
       "      <td>red</td>\n",
       "      <td>gold</td>\n",
       "      <td>amethyst</td>\n",
       "      <td>2018-12-02</td>\n",
       "      <td>2018</td>\n",
       "      <td>12</td>\n",
       "      <td>necklace</td>\n",
       "    </tr>\n",
       "    <tr>\n",
       "      <th>4</th>\n",
       "      <td>2018-12-02 22:09:34 UTC</td>\n",
       "      <td>[jewelry, earring]</td>\n",
       "      <td>102</td>\n",
       "      <td>NaN</td>\n",
       "      <td>red</td>\n",
       "      <td>gold</td>\n",
       "      <td>NaN</td>\n",
       "      <td>2018-12-02</td>\n",
       "      <td>2018</td>\n",
       "      <td>12</td>\n",
       "      <td>earring</td>\n",
       "    </tr>\n",
       "    <tr>\n",
       "      <th>5</th>\n",
       "      <td>2018-12-02 22:09:34 UTC</td>\n",
       "      <td>[jewelry, earring]</td>\n",
       "      <td>150</td>\n",
       "      <td>NaN</td>\n",
       "      <td>red</td>\n",
       "      <td>gold</td>\n",
       "      <td>diamond</td>\n",
       "      <td>2018-12-02</td>\n",
       "      <td>2018</td>\n",
       "      <td>12</td>\n",
       "      <td>earring</td>\n",
       "    </tr>\n",
       "  </tbody>\n",
       "</table>\n",
       "</div>"
      ],
      "text/plain": [
       "                order_date             category  price buyer colour1 colour2  \\\n",
       "1  2018-12-02 13:53:42 UTC   [jewelry, pendant]     54     f   white    gold   \n",
       "2  2018-12-02 17:44:02 UTC   [jewelry, pendant]     88     f     red    gold   \n",
       "3  2018-12-02 21:30:19 UTC  [jewelry, necklace]    417   NaN     red    gold   \n",
       "4  2018-12-02 22:09:34 UTC   [jewelry, earring]    102   NaN     red    gold   \n",
       "5  2018-12-02 22:09:34 UTC   [jewelry, earring]    150   NaN     red    gold   \n",
       "\n",
       "       type        date  year  month sub_category  \n",
       "1  sapphire  2018-12-02  2018     12      pendant  \n",
       "2   diamond  2018-12-02  2018     12      pendant  \n",
       "3  amethyst  2018-12-02  2018     12     necklace  \n",
       "4       NaN  2018-12-02  2018     12      earring  \n",
       "5   diamond  2018-12-02  2018     12      earring  "
      ]
     },
     "execution_count": 27,
     "metadata": {},
     "output_type": "execute_result"
    }
   ],
   "source": [
    "df1.head()"
   ]
  },
  {
   "cell_type": "code",
   "execution_count": 28,
   "id": "4cf25b8b",
   "metadata": {},
   "outputs": [
    {
     "data": {
      "text/html": [
       "<div>\n",
       "<style scoped>\n",
       "    .dataframe tbody tr th:only-of-type {\n",
       "        vertical-align: middle;\n",
       "    }\n",
       "\n",
       "    .dataframe tbody tr th {\n",
       "        vertical-align: top;\n",
       "    }\n",
       "\n",
       "    .dataframe thead th {\n",
       "        text-align: right;\n",
       "    }\n",
       "</style>\n",
       "<table border=\"1\" class=\"dataframe\">\n",
       "  <thead>\n",
       "    <tr style=\"text-align: right;\">\n",
       "      <th>year</th>\n",
       "      <th>2018</th>\n",
       "      <th>2019</th>\n",
       "      <th>2020</th>\n",
       "      <th>2021</th>\n",
       "    </tr>\n",
       "    <tr>\n",
       "      <th>month</th>\n",
       "      <th></th>\n",
       "      <th></th>\n",
       "      <th></th>\n",
       "      <th></th>\n",
       "    </tr>\n",
       "  </thead>\n",
       "  <tbody>\n",
       "    <tr>\n",
       "      <th>1</th>\n",
       "      <td>NaN</td>\n",
       "      <td>400.0</td>\n",
       "      <td>1250.0</td>\n",
       "      <td>2508.0</td>\n",
       "    </tr>\n",
       "    <tr>\n",
       "      <th>2</th>\n",
       "      <td>NaN</td>\n",
       "      <td>514.0</td>\n",
       "      <td>1270.0</td>\n",
       "      <td>2449.0</td>\n",
       "    </tr>\n",
       "    <tr>\n",
       "      <th>3</th>\n",
       "      <td>NaN</td>\n",
       "      <td>443.0</td>\n",
       "      <td>1124.0</td>\n",
       "      <td>3122.0</td>\n",
       "    </tr>\n",
       "    <tr>\n",
       "      <th>4</th>\n",
       "      <td>NaN</td>\n",
       "      <td>437.0</td>\n",
       "      <td>386.0</td>\n",
       "      <td>2501.0</td>\n",
       "    </tr>\n",
       "    <tr>\n",
       "      <th>5</th>\n",
       "      <td>NaN</td>\n",
       "      <td>407.0</td>\n",
       "      <td>399.0</td>\n",
       "      <td>2582.0</td>\n",
       "    </tr>\n",
       "    <tr>\n",
       "      <th>6</th>\n",
       "      <td>NaN</td>\n",
       "      <td>462.0</td>\n",
       "      <td>763.0</td>\n",
       "      <td>2632.0</td>\n",
       "    </tr>\n",
       "    <tr>\n",
       "      <th>7</th>\n",
       "      <td>NaN</td>\n",
       "      <td>656.0</td>\n",
       "      <td>1223.0</td>\n",
       "      <td>2936.0</td>\n",
       "    </tr>\n",
       "    <tr>\n",
       "      <th>8</th>\n",
       "      <td>NaN</td>\n",
       "      <td>745.0</td>\n",
       "      <td>1732.0</td>\n",
       "      <td>4511.0</td>\n",
       "    </tr>\n",
       "    <tr>\n",
       "      <th>9</th>\n",
       "      <td>NaN</td>\n",
       "      <td>468.0</td>\n",
       "      <td>1438.0</td>\n",
       "      <td>3167.0</td>\n",
       "    </tr>\n",
       "    <tr>\n",
       "      <th>10</th>\n",
       "      <td>NaN</td>\n",
       "      <td>1133.0</td>\n",
       "      <td>1564.0</td>\n",
       "      <td>2672.0</td>\n",
       "    </tr>\n",
       "    <tr>\n",
       "      <th>11</th>\n",
       "      <td>NaN</td>\n",
       "      <td>1463.0</td>\n",
       "      <td>1620.0</td>\n",
       "      <td>5281.0</td>\n",
       "    </tr>\n",
       "    <tr>\n",
       "      <th>12</th>\n",
       "      <td>98.0</td>\n",
       "      <td>1359.0</td>\n",
       "      <td>5226.0</td>\n",
       "      <td>66.0</td>\n",
       "    </tr>\n",
       "  </tbody>\n",
       "</table>\n",
       "</div>"
      ],
      "text/plain": [
       "year   2018    2019    2020    2021\n",
       "month                              \n",
       "1       NaN   400.0  1250.0  2508.0\n",
       "2       NaN   514.0  1270.0  2449.0\n",
       "3       NaN   443.0  1124.0  3122.0\n",
       "4       NaN   437.0   386.0  2501.0\n",
       "5       NaN   407.0   399.0  2582.0\n",
       "6       NaN   462.0   763.0  2632.0\n",
       "7       NaN   656.0  1223.0  2936.0\n",
       "8       NaN   745.0  1732.0  4511.0\n",
       "9       NaN   468.0  1438.0  3167.0\n",
       "10      NaN  1133.0  1564.0  2672.0\n",
       "11      NaN  1463.0  1620.0  5281.0\n",
       "12     98.0  1359.0  5226.0    66.0"
      ]
     },
     "execution_count": 28,
     "metadata": {},
     "output_type": "execute_result"
    }
   ],
   "source": [
    "df1.groupby(['year','month'])['type'].count().unstack('year')"
   ]
  },
  {
   "cell_type": "code",
   "execution_count": 29,
   "id": "eee19da3",
   "metadata": {},
   "outputs": [
    {
     "data": {
      "text/plain": [
       "<AxesSubplot:xlabel='month'>"
      ]
     },
     "execution_count": 29,
     "metadata": {},
     "output_type": "execute_result"
    },
    {
     "data": {
      "image/png": "[encoded data removed]",
      "text/plain": [
       "<Figure size 432x288 with 1 Axes>"
      ]
     },
     "metadata": {
      "needs_background": "light"
     },
     "output_type": "display_data"
    }
   ],
   "source": [
    "df1.groupby(['year','month'])['type'].count().unstack('year').plot(kind='bar')"
   ]
  },
  {
   "cell_type": "code",
   "execution_count": 30,
   "id": "a62bd21d",
   "metadata": {},
   "outputs": [
    {
     "data": {
      "image/png": "[encoded data removed]",
      "text/plain": [
       "<Figure size 432x288 with 1 Axes>"
      ]
     },
     "metadata": {
      "needs_background": "light"
     },
     "output_type": "display_data"
    }
   ],
   "source": [
    "df1['sub_category'].value_counts().plot(kind='bar')\n",
    "plt.show()"
   ]
  },
  {
   "cell_type": "code",
   "execution_count": 31,
   "id": "236c9b9d",
   "metadata": {},
   "outputs": [
    {
     "data": {
      "text/plain": [
       "Text(0.5, 1.0, 'total sales by jewelry category')"
      ]
     },
     "execution_count": 31,
     "metadata": {},
     "output_type": "execute_result"
    },
    {
     "data": {
      "image/png": "[encoded data removed]",
      "text/plain": [
       "<Figure size 432x288 with 1 Axes>"
      ]
     },
     "metadata": {
      "needs_background": "light"
     },
     "output_type": "display_data"
    }
   ],
   "source": [
    "df1.groupby('sub_category')['price'].sum().sort_values().plot(kind='bar')\n",
    "plt.ticklabel_format(style='plain',axis='y')\n",
    "plt.ylabel('Total sales USD')\n",
    "plt.title('total sales by jewelry category')"
   ]
  },
  {
   "cell_type": "code",
   "execution_count": 32,
   "id": "4b420712",
   "metadata": {},
   "outputs": [
    {
     "data": {
      "text/plain": [
       "diamond                29506\n",
       "fianit                 11924\n",
       "topaz                   6286\n",
       "pearl                   3632\n",
       "garnet                  2704\n",
       "sapphire                1866\n",
       "amethyst                1632\n",
       "mix                      896\n",
       "emerald                  833\n",
       "quartz                   540\n",
       "amber                    228\n",
       "spinel                   156\n",
       "ruby                     151\n",
       "quartz_smoky              93\n",
       "nanocrystal               88\n",
       "nacre                     78\n",
       "chrysolite                74\n",
       "citrine                   51\n",
       "tourmaline                50\n",
       "sitall                    44\n",
       "corundum_synthetic        41\n",
       "coral                     41\n",
       "agate                     24\n",
       "turquoise                 22\n",
       "rhodolite                 18\n",
       "emerald_geothermal         9\n",
       "chrysoprase                6\n",
       "onyx                       6\n",
       "garnet_synthetic           6\n",
       "sapphire_geothermal        2\n",
       "Name: type, dtype: int64"
      ]
     },
     "execution_count": 32,
     "metadata": {},
     "output_type": "execute_result"
    }
   ],
   "source": [
    "df1['type'].value_counts()"
   ]
  },
  {
   "cell_type": "code",
   "execution_count": 33,
   "id": "6062d306",
   "metadata": {},
   "outputs": [],
   "source": [
    "toprocks = ['diamond','fianit','topaz']\n",
    "df_toprocks = df1[df1['type'].isin(toprocks)]"
   ]
  },
  {
   "cell_type": "code",
   "execution_count": 34,
   "id": "52cf5b38",
   "metadata": {},
   "outputs": [
    {
     "data": {
      "image/png": "[encoded data removed]",
      "text/plain": [
       "<Figure size 432x288 with 1 Axes>"
      ]
     },
     "metadata": {
      "needs_background": "light"
     },
     "output_type": "display_data"
    }
   ],
   "source": [
    "df_toprocks.groupby(['type','sub_category'])['month'].count().unstack('type').plot(kind='bar')\n",
    "plt.show()"
   ]
  },
  {
   "cell_type": "code",
   "execution_count": 35,
   "id": "6d7c5ca9",
   "metadata": {},
   "outputs": [],
   "source": [
    "df1.to_csv(\"new.csv\")"
   ]
  },
  {
   "cell_type": "code",
   "execution_count": 1,
   "id": "f2412dc8",
   "metadata": {},
   "outputs": [
    {
     "name": "stdout",
     "output_type": "stream",
     "text": [
      "79401\n"
     ]
    }
   ],
   "source": [
    "k = 0\n",
    "for i in range(199):\n",
    "    for j in range(399):\n",
    "        k = k+1\n",
    "\n",
    "print(k)"
   ]
  }
 ],
 "metadata": {
  "kernelspec": {
   "display_name": "Python 3 (ipykernel)",
   "language": "python",
   "name": "python3"
  },
  "language_info": {
   "codemirror_mode": {
    "name": "ipython",
    "version": 3
   },
   "file_extension": ".py",
   "mimetype": "text/x-python",
   "name": "python",
   "nbconvert_exporter": "python",
   "pygments_lexer": "ipython3",
   "version": "3.9.7"
  },
  "vscode": {
   "interpreter": {
    "hash": "369f2c481f4da34e4445cda3fffd2e751bd1c4d706f27375911949ba6bb62e1c"
   }
  }
 },
 "nbformat": 4,
 "nbformat_minor": 5
}
